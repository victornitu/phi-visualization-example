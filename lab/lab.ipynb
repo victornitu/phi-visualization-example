{
 "cells": [
  {
   "cell_type": "markdown",
   "metadata": {},
   "source": [
    "# Event-Driven Data Visualization Lab"
   ]
  },
  {
   "cell_type": "markdown",
   "metadata": {},
   "source": [
    "## Setup"
   ]
  },
  {
   "cell_type": "markdown",
   "metadata": {},
   "source": [
    "1. We need to install **pandas** and **matplotlib**"
   ]
  },
  {
   "cell_type": "code",
   "execution_count": null,
   "metadata": {},
   "outputs": [],
   "source": [
    "!pip install pandas matplotlib"
   ]
  },
  {
   "cell_type": "markdown",
   "metadata": {},
   "source": [
    "2. We import **pandas** and **matplotlib** to create datasets and charts.   \n",
    "We also import extra libraries for json manipulation:  \n",
    "`JSON` and `json.loads` will help us to visualize the generated json."
   ]
  },
  {
   "cell_type": "code",
   "execution_count": null,
   "metadata": {},
   "outputs": [],
   "source": [
    "from IPython.display import JSON\n",
    "import json\n",
    "import pandas as pd\n",
    "import matplotlib.pyplot as plt"
   ]
  },
  {
   "cell_type": "markdown",
   "metadata": {},
   "source": [
    "3. We set the **inspector** api address."
   ]
  },
  {
   "cell_type": "code",
   "execution_count": null,
   "metadata": {},
   "outputs": [],
   "source": [
    "api = 'http://localhost:8082/v1.0'"
   ]
  },
  {
   "cell_type": "markdown",
   "metadata": {},
   "source": [
    "## Products"
   ]
  },
  {
   "cell_type": "markdown",
   "metadata": {},
   "source": [
    "If we use **pandas** to directly read the product API,  \n",
    "we can see we get only one column with each product in JSON format."
   ]
  },
  {
   "cell_type": "code",
   "execution_count": null,
   "metadata": {},
   "outputs": [],
   "source": [
    "df = pd.read_json(f'{api}/product')\n",
    "df"
   ]
  },
  {
   "cell_type": "markdown",
   "metadata": {},
   "source": [
    "We can reshape our JSON with the option `orient` set to `records` .  \n",
    "We use `JSON` and `json.loads` to visualize the generated JSON."
   ]
  },
  {
   "cell_type": "code",
   "execution_count": null,
   "metadata": {},
   "outputs": [],
   "source": [
    "JSON(json.loads(df.products.to_json(orient='records')))"
   ]
  },
  {
   "cell_type": "markdown",
   "metadata": {},
   "source": [
    "We can reshape our JSON with the option `orient` set to `records` . "
   ]
  },
  {
   "cell_type": "code",
   "execution_count": null,
   "metadata": {},
   "outputs": [],
   "source": [
    "df = pd.read_json(df.products.to_json(orient='records'))\n",
    "df"
   ]
  },
  {
   "cell_type": "markdown",
   "metadata": {},
   "source": [
    "We know that when we have a `NaN`, it means it was never watched or bought.  \n",
    "We can replace all the `NaN` values with 0."
   ]
  },
  {
   "cell_type": "code",
   "execution_count": null,
   "metadata": {},
   "outputs": [],
   "source": [
    "df = df.fillna(0)\n",
    "df"
   ]
  },
  {
   "cell_type": "markdown",
   "metadata": {},
   "source": [
    "We can visualize the conversion rate for each product we have.  \n",
    "We can observe what product are often watched but rarely bought.  "
   ]
  },
  {
   "cell_type": "code",
   "execution_count": null,
   "metadata": {},
   "outputs": [],
   "source": [
    "fig, ax = plt.subplots()\n",
    "ax.bar([-0.50, 2.50, 5.50], df.watched, 1, label='watched')\n",
    "ax.bar([0.50, 3.50, 6.50], df.bought, 1, label='bought')\n",
    "ax.set_ylabel('Count')\n",
    "ax.set_xticks([0, 3, 6])\n",
    "ax.set_xticklabels(df.name)\n",
    "ax.legend()\n",
    "plt.show()"
   ]
  },
  {
   "cell_type": "markdown",
   "metadata": {},
   "source": [
    "We can now compare the proportion of products in two groups: `watched` and `bought`."
   ]
  },
  {
   "cell_type": "code",
   "execution_count": null,
   "metadata": {},
   "outputs": [],
   "source": [
    "columns = df.columns.drop('name')\n",
    "fig, axes = plt.subplots(1, columns.size)\n",
    "\n",
    "for i, name in enumerate(columns):\n",
    "    data = df[name]\n",
    "    axes[i].pie(data, labels=df.name, radius=data.sum()/40, autopct='%1.1f%%', shadow=True)\n",
    "    axes[i].set_title(name, loc='left', pad=50.0, fontdict={'fontweight': 'bold'})\n",
    "    \n",
    "plt.subplots_adjust(right=1.5)\n",
    "plt.show()"
   ]
  },
  {
   "cell_type": "markdown",
   "metadata": {},
   "source": [
    "## Customers"
   ]
  },
  {
   "cell_type": "markdown",
   "metadata": {},
   "source": [
    "If we use **pandas** to read the customer API."
   ]
  },
  {
   "cell_type": "code",
   "execution_count": null,
   "metadata": {},
   "outputs": [],
   "source": [
    "df = pd.read_json(f'{api}/customer')\n",
    "df = pd.read_json(df.customers.to_json(orient='records'))\n",
    "df = df.fillna(0)\n",
    "df"
   ]
  },
  {
   "cell_type": "markdown",
   "metadata": {},
   "source": [
    "Here we can have a look at the costumers that buy the most.  \n",
    "We can also see the proportion of products they purchase."
   ]
  },
  {
   "cell_type": "code",
   "execution_count": null,
   "metadata": {},
   "outputs": [],
   "source": [
    "fig, ax = plt.subplots()\n",
    "data = df.sort_values('products')\n",
    "ax.barh(data.name, data.Sugar, 0.5, label='Sugar')\n",
    "ax.barh(data.name, data.Salt, 0.5, label='Salt', left=data.Sugar)\n",
    "ax.barh(data.name, data.Pepper, 0.5, label='Pepper', left=data.Sugar+data.Salt)\n",
    "ax.set_xlabel('Count')\n",
    "ax.legend()\n",
    "plt.show()"
   ]
  }
 ],
 "metadata": {
  "kernelspec": {
   "display_name": "Python 3",
   "language": "python",
   "name": "python3"
  },
  "language_info": {
   "codemirror_mode": {
    "name": "ipython",
    "version": 3
   },
   "file_extension": ".py",
   "mimetype": "text/x-python",
   "name": "python",
   "nbconvert_exporter": "python",
   "pygments_lexer": "ipython3",
   "version": "3.8.1"
  }
 },
 "nbformat": 4,
 "nbformat_minor": 4
}
